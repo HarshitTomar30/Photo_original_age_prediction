{
 "cells": [
  {
   "cell_type": "code",
   "execution_count": 1,
   "id": "528dc3a1",
   "metadata": {},
   "outputs": [],
   "source": [
    "import os"
   ]
  },
  {
   "cell_type": "code",
   "execution_count": 2,
   "id": "3a00b97a",
   "metadata": {},
   "outputs": [
    {
     "data": {
      "text/plain": [
       "7591"
      ]
     },
     "execution_count": 2,
     "metadata": {},
     "output_type": "execute_result"
    }
   ],
   "source": [
    "len(os.listdir('appa-real-face-cropped/final_files/final_files'))"
   ]
  },
  {
   "cell_type": "code",
   "execution_count": 3,
   "id": "1a04fb25",
   "metadata": {},
   "outputs": [
    {
     "data": {
      "text/html": [
       "<div>\n",
       "<style scoped>\n",
       "    .dataframe tbody tr th:only-of-type {\n",
       "        vertical-align: middle;\n",
       "    }\n",
       "\n",
       "    .dataframe tbody tr th {\n",
       "        vertical-align: top;\n",
       "    }\n",
       "\n",
       "    .dataframe thead th {\n",
       "        text-align: right;\n",
       "    }\n",
       "</style>\n",
       "<table border=\"1\" class=\"dataframe\">\n",
       "  <thead>\n",
       "    <tr style=\"text-align: right;\">\n",
       "      <th></th>\n",
       "      <th>file_name</th>\n",
       "      <th>real_age</th>\n",
       "    </tr>\n",
       "  </thead>\n",
       "  <tbody>\n",
       "    <tr>\n",
       "      <th>0</th>\n",
       "      <td>000000.jpg</td>\n",
       "      <td>4</td>\n",
       "    </tr>\n",
       "    <tr>\n",
       "      <th>1</th>\n",
       "      <td>000001.jpg</td>\n",
       "      <td>18</td>\n",
       "    </tr>\n",
       "    <tr>\n",
       "      <th>2</th>\n",
       "      <td>000002.jpg</td>\n",
       "      <td>80</td>\n",
       "    </tr>\n",
       "    <tr>\n",
       "      <th>3</th>\n",
       "      <td>000003.jpg</td>\n",
       "      <td>50</td>\n",
       "    </tr>\n",
       "    <tr>\n",
       "      <th>4</th>\n",
       "      <td>000004.jpg</td>\n",
       "      <td>17</td>\n",
       "    </tr>\n",
       "  </tbody>\n",
       "</table>\n",
       "</div>"
      ],
      "text/plain": [
       "    file_name  real_age\n",
       "0  000000.jpg         4\n",
       "1  000001.jpg        18\n",
       "2  000002.jpg        80\n",
       "3  000003.jpg        50\n",
       "4  000004.jpg        17"
      ]
     },
     "execution_count": 3,
     "metadata": {},
     "output_type": "execute_result"
    }
   ],
   "source": [
    "import pandas as pd\n",
    " \n",
    "labels = pd.read_csv('appa-real-face-cropped/labels.csv')\n",
    "labels.head()"
   ]
  },
  {
   "cell_type": "code",
   "execution_count": 4,
   "id": "b5b5a8ae",
   "metadata": {},
   "outputs": [],
   "source": [
    "import tensorflow as tf\n",
    "from tensorflow import keras\n",
    "from tensorflow.keras import layers,models\n",
    "from tensorflow.keras.models import Sequential\n",
    "from tensorflow.keras.layers import MaxPooling2D,Conv2D,Dropout,Dense,Flatten\n"
   ]
  },
  {
   "cell_type": "code",
   "execution_count": 5,
   "id": "f03ab675",
   "metadata": {},
   "outputs": [],
   "source": [
    "from tensorflow.keras.preprocessing.image import ImageDataGenerator\n"
   ]
  },
  {
   "cell_type": "markdown",
   "id": "9a4449ae",
   "metadata": {},
   "source": [
    "train_datagen = ImageDataGenerator( rescale=1/255)\n",
    "\n",
    "\n",
    "train_datagen_flow = train_datagen.flow_from_dataframe(\n",
    "                          dataframe=labels,\n",
    "                          directory='appa-real-face-cropped/final_files/final_files',\n",
    "                          x_col=\"file_name\", \n",
    "                          y_col=\"real_age\",\n",
    "                          class_mode = 'raw',\n",
    "                          target_size= (224,224),\n",
    "                          batch_size= 32\n",
    "  )"
   ]
  },
  {
   "cell_type": "code",
   "execution_count": 6,
   "id": "89331253",
   "metadata": {},
   "outputs": [],
   "source": [
    "def load_train(path):\n",
    "    labels= pd.read_csv(path+'labels.csv')\n",
    "    train_datagen = ImageDataGenerator(validation_split=0.25, rescale=1/255)\n",
    "    \n",
    "    train_dgen_flow = train_datagen.flow_from_dataframe(\n",
    "                            dataframe=labels,\n",
    "                            directory=path +'final_files/final_files',\n",
    "                            x_col ='file_name',\n",
    "                            y_col='real_age',\n",
    "                            target_size=(224,224),\n",
    "                            class_mode='raw',\n",
    "                            batch_size=32,\n",
    "                            subset='training'\n",
    "    )\n",
    "    return train_dgen_flow\n",
    "\n",
    "\n",
    "def load_test(path):\n",
    "    labels= pd.read_csv(path+'labels.csv')\n",
    "    validation_datagen = ImageDataGenerator(validation_split=0.25,rescale=1/255)\n",
    "    \n",
    "    test_dgen_flow = validation_datagen.flow_from_dataframe(\n",
    "                            dataframe=labels,\n",
    "                            directory=path + 'final_files/final_files',\n",
    "                            x_col='file_name',\n",
    "                            y_col='real_age',\n",
    "                            target_size=(224,224),\n",
    "                            batch_size=32,\n",
    "                            class_mode='raw',\n",
    "                            subset='validation'\n",
    "    )\n",
    "    return test_dgen_flow"
   ]
  },
  {
   "cell_type": "code",
   "execution_count": 34,
   "id": "711e631c",
   "metadata": {},
   "outputs": [],
   "source": [
    "def create_model(input_shape):\n",
    "    model = Sequential([\n",
    "        Conv2D(32,3,input_shape= input_shape,activation='relu'),\n",
    "        Dropout(0.2),\n",
    "        MaxPooling2D(),\n",
    "        Conv2D(32,3,activation='relu'),\n",
    "        MaxPooling2D(),\n",
    "        Conv2D(16,3,activation='relu'),\n",
    "        MaxPooling2D(),\n",
    "        Flatten(),\n",
    "        Dense(512,activation='relu'),\n",
    "        Dense(128,activation='relu'),\n",
    "        Dense(1,activation='relu')\n",
    "    ])\n",
    "    model.compile(optimizer='adam',loss ='mae',metrics=['mae'])\n",
    "    \n",
    "    return model\n",
    "\n"
   ]
  },
  {
   "cell_type": "code",
   "execution_count": 35,
   "id": "1b05f1b3",
   "metadata": {},
   "outputs": [],
   "source": [
    "path = 'appa-real-face-cropped/'"
   ]
  },
  {
   "cell_type": "code",
   "execution_count": 36,
   "id": "fee7abdc",
   "metadata": {},
   "outputs": [
    {
     "name": "stdout",
     "output_type": "stream",
     "text": [
      "Found 5694 validated image filenames.\n",
      "Found 1897 validated image filenames.\n"
     ]
    }
   ],
   "source": [
    "train_data = load_train(path)\n",
    "test_data = load_test(path)"
   ]
  },
  {
   "cell_type": "code",
   "execution_count": 40,
   "id": "17652603",
   "metadata": {},
   "outputs": [],
   "source": [
    "\n",
    "def train_model(model,train_data,test_data,batch_size=32,epochs =20):\n",
    "    model.fit(train_data,validation_data = test_data,batch_size= batch_size,epochs =epochs)\n",
    "    return model"
   ]
  },
  {
   "cell_type": "code",
   "execution_count": 41,
   "id": "7edcea18",
   "metadata": {},
   "outputs": [
    {
     "name": "stdout",
     "output_type": "stream",
     "text": [
      "Model: \"sequential_6\"\n",
      "_________________________________________________________________\n",
      " Layer (type)                Output Shape              Param #   \n",
      "=================================================================\n",
      " conv2d_18 (Conv2D)          (None, 222, 222, 32)      896       \n",
      "                                                                 \n",
      " dropout_6 (Dropout)         (None, 222, 222, 32)      0         \n",
      "                                                                 \n",
      " max_pooling2d_18 (MaxPoolin  (None, 111, 111, 32)     0         \n",
      " g2D)                                                            \n",
      "                                                                 \n",
      " conv2d_19 (Conv2D)          (None, 109, 109, 32)      9248      \n",
      "                                                                 \n",
      " max_pooling2d_19 (MaxPoolin  (None, 54, 54, 32)       0         \n",
      " g2D)                                                            \n",
      "                                                                 \n",
      " conv2d_20 (Conv2D)          (None, 52, 52, 16)        4624      \n",
      "                                                                 \n",
      " max_pooling2d_20 (MaxPoolin  (None, 26, 26, 16)       0         \n",
      " g2D)                                                            \n",
      "                                                                 \n",
      " flatten_6 (Flatten)         (None, 10816)             0         \n",
      "                                                                 \n",
      " dense_18 (Dense)            (None, 512)               5538304   \n",
      "                                                                 \n",
      " dense_19 (Dense)            (None, 128)               65664     \n",
      "                                                                 \n",
      " dense_20 (Dense)            (None, 1)                 129       \n",
      "                                                                 \n",
      "=================================================================\n",
      "Total params: 5,618,865\n",
      "Trainable params: 5,618,865\n",
      "Non-trainable params: 0\n",
      "_________________________________________________________________\n"
     ]
    }
   ],
   "source": [
    "model = create_model(input_shape=(224,224,3))\n",
    "model.summary()"
   ]
  },
  {
   "cell_type": "code",
   "execution_count": 42,
   "id": "09ae2786",
   "metadata": {},
   "outputs": [
    {
     "name": "stdout",
     "output_type": "stream",
     "text": [
      "Epoch 1/20\n",
      "178/178 [==============================] - 286s 2s/step - loss: 14.3670 - mae: 14.3670 - val_loss: 13.4925 - val_mae: 13.4925\n",
      "Epoch 2/20\n",
      "178/178 [==============================] - 279s 2s/step - loss: 12.8410 - mae: 12.8410 - val_loss: 13.1432 - val_mae: 13.1432\n",
      "Epoch 3/20\n",
      "178/178 [==============================] - 277s 2s/step - loss: 12.5263 - mae: 12.5263 - val_loss: 13.2245 - val_mae: 13.2245\n",
      "Epoch 4/20\n",
      "178/178 [==============================] - 282s 2s/step - loss: 12.0898 - mae: 12.0898 - val_loss: 11.7816 - val_mae: 11.7816\n",
      "Epoch 5/20\n",
      "178/178 [==============================] - 270s 2s/step - loss: 11.6565 - mae: 11.6565 - val_loss: 11.4897 - val_mae: 11.4897\n",
      "Epoch 6/20\n",
      "178/178 [==============================] - 278s 2s/step - loss: 11.2892 - mae: 11.2892 - val_loss: 11.3940 - val_mae: 11.3940\n",
      "Epoch 7/20\n",
      "178/178 [==============================] - 290s 2s/step - loss: 10.7077 - mae: 10.7077 - val_loss: 11.2751 - val_mae: 11.2751\n",
      "Epoch 8/20\n",
      "178/178 [==============================] - 287s 2s/step - loss: 10.5147 - mae: 10.5147 - val_loss: 12.2252 - val_mae: 12.2252\n",
      "Epoch 9/20\n",
      "178/178 [==============================] - 216s 1s/step - loss: 9.8460 - mae: 9.8460 - val_loss: 11.7003 - val_mae: 11.7003\n",
      "Epoch 10/20\n",
      "178/178 [==============================] - 188s 1s/step - loss: 9.2548 - mae: 9.2548 - val_loss: 11.3061 - val_mae: 11.3061\n",
      "Epoch 11/20\n",
      "178/178 [==============================] - 189s 1s/step - loss: 8.5335 - mae: 8.5335 - val_loss: 11.1025 - val_mae: 11.1025\n",
      "Epoch 12/20\n",
      "178/178 [==============================] - 174s 976ms/step - loss: 8.3222 - mae: 8.3222 - val_loss: 11.2351 - val_mae: 11.2351\n",
      "Epoch 13/20\n",
      "178/178 [==============================] - 174s 979ms/step - loss: 7.2583 - mae: 7.2583 - val_loss: 11.2683 - val_mae: 11.2683\n",
      "Epoch 14/20\n",
      "178/178 [==============================] - 174s 977ms/step - loss: 6.8927 - mae: 6.8927 - val_loss: 11.5276 - val_mae: 11.5276\n",
      "Epoch 15/20\n",
      "178/178 [==============================] - 174s 978ms/step - loss: 6.1862 - mae: 6.1862 - val_loss: 10.9933 - val_mae: 10.9933\n",
      "Epoch 16/20\n",
      "178/178 [==============================] - 175s 982ms/step - loss: 5.6163 - mae: 5.6163 - val_loss: 11.0577 - val_mae: 11.0577\n",
      "Epoch 17/20\n",
      "178/178 [==============================] - 385s 2s/step - loss: 5.0527 - mae: 5.0527 - val_loss: 11.1933 - val_mae: 11.1933\n",
      "Epoch 18/20\n",
      "178/178 [==============================] - 199s 1s/step - loss: 4.9404 - mae: 4.9404 - val_loss: 11.2568 - val_mae: 11.2568\n",
      "Epoch 19/20\n",
      "178/178 [==============================] - 188s 1s/step - loss: 4.4008 - mae: 4.4008 - val_loss: 11.2928 - val_mae: 11.2928\n",
      "Epoch 20/20\n",
      "178/178 [==============================] - 200s 1s/step - loss: 3.9990 - mae: 3.9990 - val_loss: 11.1510 - val_mae: 11.1510\n"
     ]
    }
   ],
   "source": [
    "model = train_model(model,train_data,test_data)"
   ]
  },
  {
   "cell_type": "markdown",
   "id": "7a610c2a",
   "metadata": {},
   "source": [
    "# we can predict the age of person with mae of +-3.99"
   ]
  },
  {
   "cell_type": "code",
   "execution_count": 47,
   "id": "1f6de8b8",
   "metadata": {},
   "outputs": [
    {
     "data": {
      "image/png": "[encoded data removed]",
      "text/plain": [
       "<Figure size 640x480 with 1 Axes>"
      ]
     },
     "metadata": {},
     "output_type": "display_data"
    }
   ],
   "source": [
    "import matplotlib.pyplot as plt\n",
    "plt.plot(model.history.history['mae'],label='train_MAE')\n",
    "plt.plot(model.history.history['val_mae'],label='test_MAE')\n",
    "plt.legend()\n",
    "plt.show()"
   ]
  },
  {
   "cell_type": "code",
   "execution_count": 46,
   "id": "b190de4a",
   "metadata": {
    "collapsed": true
   },
   "outputs": [
    {
     "data": {
      "image/png": "[encoded data removed]",
      "text/plain": [
       "<Figure size 640x480 with 1 Axes>"
      ]
     },
     "metadata": {},
     "output_type": "display_data"
    }
   ],
   "source": [
    "plt.plot(model.history.history['loss'],label='train_loss')\n",
    "plt.plot(model.history.history['val_loss'],label='test_loss')\n",
    "plt.legend()\n",
    "plt.show()"
   ]
  },
  {
   "cell_type": "code",
   "execution_count": null,
   "id": "2c5f7d08",
   "metadata": {},
   "outputs": [],
   "source": []
  }
 ],
 "metadata": {
  "kernelspec": {
   "display_name": "Python 3 (ipykernel)",
   "language": "python",
   "name": "python3"
  },
  "language_info": {
   "codemirror_mode": {
    "name": "ipython",
    "version": 3
   },
   "file_extension": ".py",
   "mimetype": "text/x-python",
   "name": "python",
   "nbconvert_exporter": "python",
   "pygments_lexer": "ipython3",
   "version": "3.10.9"
  }
 },
 "nbformat": 4,
 "nbformat_minor": 5
}
